{
 "cells": [
  {
   "cell_type": "markdown",
   "metadata": {},
   "source": [
    "### Determination de la valeur de l'inductance"
   ]
  },
  {
   "cell_type": "code",
   "execution_count": 55,
   "metadata": {},
   "outputs": [
    {
     "name": "stderr",
     "output_type": "stream",
     "text": [
      "/home/thatthetheos/.local/lib/python2.7/site-packages/ipykernel_launcher.py:20: DeprecationWarning: object of type <type 'float'> cannot be safely interpreted as an integer.\n",
      "/home/thatthetheos/.local/lib/python2.7/site-packages/ipykernel_launcher.py:11: RuntimeWarning: divide by zero encountered in divide\n",
      "  # This is added back by InteractiveShellApp.init_path()\n"
     ]
    },
    {
     "name": "stdout",
     "output_type": "stream",
     "text": [
      "60070.63827817905\n",
      "Inducante 1 4.50316371744e-06 , capa 1 1e-06, nombre tour 6.75474557616\n",
      "Inducante 2 4.50113678185e-06 , capa 2 1e-06, nombre tour 9.1899754813\n",
      "Inducante 1 4.50316371744e-05 , capa 1 1e-07, nombre tour 21.3603810356\n",
      "Inducante 2 4.3091171188e-05 , capa 2 1e-07, nombre tour 28.4346178859\n",
      "Inducante 1 0.000450316371744 , capa 1 1e-08, nombre tour 67.5474557616\n",
      "Inducante 2 8.18286343757e-05 , capa 2 1e-08, nombre tour 39.1837411737\n",
      "Inducante 1 0.00450316371744 , capa 1 1e-09, nombre tour 213.603810356\n",
      "Inducante 2 9.97784259418e-06 , capa 2 1e-09, nombre tour 13.6826926487\n"
     ]
    },
    {
     "data": {
      "image/png": "[encoded data removed]",
      "text/plain": [
       "<Figure size 432x288 with 1 Axes>"
      ]
     },
     "metadata": {
      "needs_background": "light"
     },
     "output_type": "display_data"
    }
   ],
   "source": [
    "from numpy import *\n",
    "import matplotlib.pyplot as plt\n",
    "\n",
    "def induct2(R_app, cap2,frequence):\n",
    "    return (R_app**2 * cap2)/(1+(frequence*2*pi*cap2*R_app)**2)\n",
    "\n",
    "def frequ_resonance(L2,cap2,R_app):\n",
    "    return sqrt(1/(cap2*L2) - 1/(cap2*R_app)**2)/(2*pi)\n",
    "\n",
    "def induct1(cap1, frequency):\n",
    "    return 1/((2*pi*frequency)**2*cap1)\n",
    "\n",
    "def turn_count(induct, R):\n",
    "    return sqrt((2*induct)/(4*pi**2 * 1e-7 * R))\n",
    "\n",
    "def induct_length(n_count, R):\n",
    "    return N*2*pi*R\n",
    "\n",
    "cap = [1e-6, 1e-7, 1e-8, 1e-9]\n",
    "i = linspace(0,100000, 1e6)\n",
    "R_app = 100\n",
    "L2 = 55e-6\n",
    "print(frequ_resonance(7e-6,1e-6,50))\n",
    "for cap_val in cap:\n",
    "    print(\"Inducante 1 {} , capa 1 {}, nombre tour {}\".format(induct1(cap_val,75000),cap_val, turn_count(induct1(cap_val,75000),0.05)))\n",
    "    \n",
    "    print(\"Inducante 2 {} , capa 2 {}, nombre tour {}\".format(induct2(R_app,cap_val,75000),cap_val, turn_count(induct2(R_app,cap_val,75000),0.027)))\n",
    "    \n",
    "    plt.plot(i,induct1(cap_val,i))"
   ]
  },
  {
   "cell_type": "markdown",
   "metadata": {},
   "source": [
    "### Conclusion\n",
    "Nous prendrons pour:\n",
    "l'inductance 1 : une longueur de "
   ]
  }
 ],
 "metadata": {
  "kernelspec": {
   "display_name": "Python 3",
   "language": "python",
   "name": "python3"
  },
  "language_info": {
   "codemirror_mode": {
    "name": "ipython",
    "version": 2
   },
   "file_extension": ".py",
   "mimetype": "text/x-python",
   "name": "python",
   "nbconvert_exporter": "python",
   "pygments_lexer": "ipython2",
   "version": "2.7.15rc1"
  }
 },
 "nbformat": 4,
 "nbformat_minor": 2
}
