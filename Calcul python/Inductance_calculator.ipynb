{
 "cells": [
  {
   "cell_type": "markdown",
   "metadata": {},
   "source": [
    "### Determination de la valeur de l'inductance"
   ]
  },
  {
   "cell_type": "code",
   "execution_count": 6,
   "metadata": {},
   "outputs": [
    {
     "name": "stdout",
     "output_type": "stream",
     "text": [
      "60070.63827817905\n",
      "Inducante 1 1.33711171156e-05 , capa 1 1e-06, nombre tour 11.6394905936\n",
      "Inducante 2 1.33394081753e-05 , capa 2 1e-06, nombre tour 11.6256811646\n"
     ]
    },
    {
     "name": "stderr",
     "output_type": "stream",
     "text": [
      "/home/thatthetheos/.local/lib/python2.7/site-packages/ipykernel_launcher.py:20: DeprecationWarning: object of type <type 'float'> cannot be safely interpreted as an integer.\n"
     ]
    },
    {
     "data": {
      "text/plain": [
       "'\\nfor cap_val in cap:\\n    print(\"Inducante 1 {} , capa 1 {}, nombre tour {}\".format(induct1(cap_val,43524.75),cap_val, turn_count(induct1(cap_val,75000),0.047)))\\n    \\n    print(\"Inducante 2 {} , capa 2 {}, nombre tour {}\".format(induct2(R_app,cap_val,43524.75),cap_val, turn_count(induct2(R_app,cap_val,75000),0.047)))\\n    \\n    plt.plot(i,induct1(cap_val,i))\\n'"
      ]
     },
     "execution_count": 6,
     "metadata": {},
     "output_type": "execute_result"
    }
   ],
   "source": [
    "from numpy import *\n",
    "import matplotlib.pyplot as plt\n",
    "\n",
    "def induct2(R_app, cap2,frequence):\n",
    "    return (R_app**2 * cap2)/(1+(frequence*2*pi*cap2*R_app)**2)\n",
    "\n",
    "def frequ_resonance(L2,cap2,R_app):\n",
    "    return sqrt(1/(cap2*L2) - 1/(cap2*R_app)**2)/(2*pi)\n",
    "\n",
    "def induct1(cap1, frequency):\n",
    "    return 1/((2*pi*frequency)**2*cap1)\n",
    "\n",
    "def turn_count(induct, R):\n",
    "    return sqrt((2*induct)/(4*pi**2 * 1e-7 * R))\n",
    "\n",
    "def induct_length(n_count, R):\n",
    "    return N*2*pi*R\n",
    "\n",
    "cap = [1e-6, 1e-7, 1e-8, 1e-9]\n",
    "i = linspace(0,100000, 1e6)\n",
    "R_app = 100\n",
    "L2 = 55e-6\n",
    "print(frequ_resonance(7e-6,1e-6,50))\n",
    "\n",
    "\n",
    "print(\"Inducante 1 {} , capa 1 {}, nombre tour {}\".format(induct1(1e-6,43524.75),1e-6, turn_count(induct1(1e-6,43524.75),0.05)))    \n",
    "print(\"Inducante 2 {} , capa 2 {}, nombre tour {}\".format(induct2(75,1e-6,43524.75),1e-6, turn_count(induct2(75,1e-6,43524.75),0.05)))\n",
    "    \n",
    "\"\"\"\n",
    "for cap_val in cap:\n",
    "    print(\"Inducante 1 {} , capa 1 {}, nombre tour {}\".format(induct1(cap_val,43524.75),cap_val, turn_count(induct1(cap_val,75000),0.047)))\n",
    "    \n",
    "    print(\"Inducante 2 {} , capa 2 {}, nombre tour {}\".format(induct2(R_app,cap_val,43524.75),cap_val, turn_count(induct2(R_app,cap_val,75000),0.047)))\n",
    "    \n",
    "    plt.plot(i,induct1(cap_val,i))\n",
    "\"\"\""
   ]
  },
  {
   "cell_type": "markdown",
   "metadata": {},
   "source": [
    "### Conclusion\n",
    "Nous prendrons pour:\n",
    "l'inductance 1 : une longueur de "
   ]
  },
  {
   "cell_type": "code",
   "execution_count": null,
   "metadata": {},
   "outputs": [],
   "source": []
  }
 ],
 "metadata": {
  "kernelspec": {
   "display_name": "Python 3",
   "language": "python",
   "name": "python3"
  },
  "language_info": {
   "codemirror_mode": {
    "name": "ipython",
    "version": 2
   },
   "file_extension": ".py",
   "mimetype": "text/x-python",
   "name": "python",
   "nbconvert_exporter": "python",
   "pygments_lexer": "ipython2",
   "version": "2.7.15rc1"
  }
 },
 "nbformat": 4,
 "nbformat_minor": 2
}
