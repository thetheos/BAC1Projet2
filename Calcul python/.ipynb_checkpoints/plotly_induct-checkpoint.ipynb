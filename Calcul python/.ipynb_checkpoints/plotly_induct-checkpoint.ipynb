{
 "cells": [
  {
   "cell_type": "markdown",
   "metadata": {},
   "source": [
    "### Evaluation de la fréquence de résonance\n"
   ]
  },
  {
   "cell_type": "code",
   "execution_count": 21,
   "metadata": {},
   "outputs": [
    {
     "name": "stderr",
     "output_type": "stream",
     "text": [
      "/home/thatthetheos/.local/lib/python2.7/site-packages/ipykernel_launcher.py:36: DeprecationWarning:\n",
      "\n",
      "object of type <type 'float'> cannot be safely interpreted as an integer.\n",
      "\n",
      "/home/thatthetheos/.local/lib/python2.7/site-packages/ipykernel_launcher.py:17: RuntimeWarning:\n",
      "\n",
      "invalid value encountered in sqrt\n",
      "\n"
     ]
    },
    {
     "name": "stdout",
     "output_type": "stream",
     "text": [
      "21401.350544926845\n",
      "65971.24667817901\n",
      "143961.06266350442\n",
      "nan\n"
     ]
    },
    {
     "data": {
      "text/plain": [
       "'induct_func_frequency.html'"
      ]
     },
     "execution_count": 21,
     "metadata": {},
     "output_type": "execute_result"
    }
   ],
   "source": [
    "import plotly\n",
    "import plotly.graph_objs as go\n",
    "from numpy import *\n",
    "\n",
    "def induct2(R_app, cap2,frequence):\n",
    "    \"\"\"\n",
    "        input: charge, valeur C_2 fréquence\n",
    "        return: Calcule la valeur de l'inductance 2 \n",
    "    \"\"\"\n",
    "    return (R_app**2 * cap2)/(1+(frequence*2*pi*cap2*R_app)**2)\n",
    "\n",
    "def frequ_resonance(L2,cap2,R_app):\n",
    "    \"\"\"\n",
    "        input: \n",
    "        return: La fréquence de résonance\n",
    "    \"\"\"\n",
    "    return sqrt(1/(cap2*L2) - 1/(cap2*R_app)**2)/(2*pi)\n",
    "\n",
    "def induct1(cap1, frequency):\n",
    "    \"\"\"\n",
    "        input: la fréquence désirée et une capacité\n",
    "        return: la valeur de l'inductance 1\n",
    "    \"\"\"\n",
    "    return 1/((2*pi*frequency)**2*cap1)\n",
    "\n",
    "def turn_count(induct, R):\n",
    "    return sqrt((2*induct)/(4*pi**2 * 1e-7 * R))\n",
    "\n",
    "def induct_length(n_count, R):\n",
    "    return N*2*pi*R\n",
    " \n",
    "\n",
    "cap = [1e-6, 1e-7, 1e-8, 1e-9]\n",
    "R_app = 100\n",
    "L2 = 55e-6\n",
    "i = linspace(1000,100000, 1e4)\n",
    "\n",
    "data = []\n",
    "\n",
    "for cap_value in cap:\n",
    "    print(frequ_resonance(L2,cap_value,R_app))\n",
    "    data.append(go.Scatter(x=i, y=induct2(R_app, cap_value,i), name=\"L2 C= {}F\".format(cap_value)) )\n",
    "    \n",
    "for cap_value in cap:\n",
    "    data.append(go.Scatter(x=i, y=induct1(cap_value,i), name=\"L1 C= {}F\".format(cap_value)) )\n",
    "    \n",
    "plotly.offline.plot({\n",
    "    \"data\": data,\n",
    "    \"layout\": go.Layout(title=\"Inductance in function of frequency\")\n",
    "}, filename=\"induct_func_frequency.html\")"
   ]
  },
  {
   "cell_type": "markdown",
   "metadata": {},
   "source": [
    "### Evaluation de la fréquence ne sortie de l'ampli Op\n",
    "\n",
    "$$f = \\dfrac{1}{2*R_3 * C_1 *ln(2)}$$\n"
   ]
  },
  {
   "cell_type": "code",
   "execution_count": 113,
   "metadata": {},
   "outputs": [
    {
     "data": {
      "text/plain": [
       "'frequency.html'"
      ]
     },
     "execution_count": 113,
     "metadata": {},
     "output_type": "execute_result"
    }
   ],
   "source": [
    "from numpy import *\n",
    "import plotly\n",
    "import plotly.graph_objs as go\n",
    "\n",
    "def frequency(C1,R):\n",
    "    return 1/(2*R*C1*log(2))\n",
    "\n",
    "R = linspace(100,10000,10000)\n",
    "freq = frequency(R,0.000001)\n",
    "cap = [1e-6, 1e-7, 1e-8, 1e-9]\n",
    "\n",
    "data = []\n",
    "for cap_val in cap:\n",
    "    data.append(go.Scatter(x=R, y=frequency(cap_value,R), name=\"With C = {}\".format(cap_val)))\n",
    "                \n",
    "plotly.offline.plot({\n",
    "    \"data\": data,\n",
    "    \"layout\": go.Layout(title=\"Frequency of the oscillator\")\n",
    "}, filename=\"frequency.html\")"
   ]
  },
  {
   "cell_type": "markdown",
   "metadata": {},
   "source": [
    "### Evaluation de Z_equi\n",
    "$$Z_{equi}= \\frac{\\omega^2 M^2 R_L + \\omega^2 M^2 R_2 + \\omega^4 M^2 C_2^2 R_L^2 R_2 + \\omega^3M^2j(-\\omega^2L_2C_2^2R_L^2+C_2R_L^2-L_2)}{(R_2 + R_L -\\omega^2 C_2 L_2 R_L)^2 + (\\omega C_2 R_L R_2 + \\omega L_2)^2}$$"
   ]
  },
  {
   "cell_type": "code",
   "execution_count": 43,
   "metadata": {},
   "outputs": [
    {
     "name": "stdout",
     "output_type": "stream",
     "text": [
      "7.01670246831e-05\n",
      "5.58026532217e-05\n",
      "()\n"
     ]
    }
   ],
   "source": [
    "frequence = i \n",
    "omega = 2 * pi * frequence#fréquence\n",
    "R_l = 75 #Resistance de la charge au secondaire\n",
    "R_2 = 0.8# Resistance de l'inductance secondaire\n",
    "C_1 = 1e-6#Capacité du primaire\n",
    "C_2 = 1e-6#Capacité du secondaire\n",
    "L_2 = induct2(R_l, C_2,frequence) #Inductance du secondaire\n",
    "L_1 = induct1(C_1 , frequence) #Inductan au primaire \n",
    "V_s = 5#Tension d'entrée au primaire\n",
    "R_th = 2#Restance equivalent de la source de tension\n",
    "R_1 =  0.8#Résistance de l'inductance 1\n",
    "k = 1\n",
    "M = k * sqrt(L_1 * L_2)#inductance mutuelle\n",
    "\n",
    "\n",
    "Z_equi = ((omega*M)**2 * (R_l + R_2 + (omega*R_l*C_2)**2 * R_2))/ ((R_2 * R_l - omega**2 * C_2 * L_2*R_2)**2 + (omega*C_2*R_l*R_2 + omega*L_2)**2 )\n",
    "data = []\n",
    "P = (Z_equi * V_s **2 ) / (2*(Z_equi + R_1 + R_th))\n",
    "for cap_val2 in cap:\n",
    "    for cap_values in cap:\n",
    "        C_1 = cap_val2\n",
    "        C_2 = cap_value\n",
    "        L_2 = induct2(R_l, C_2,frequence) #Inductance du secondaire\n",
    "        L_1 = induct1(C_1 , frequence) #Inductan au primaire\n",
    "        Z_equi = ((omega*M)**2 * (R_l + R_2 + (omega*R_l*C_2)**2 * R_2))/ ((R_2 * R_l - omega**2 * C_2 * L_2*R_2)**2 + (omega*C_2*R_l*R_2 + omega*L_2)**2 )\n",
    "        P = (Z_equi * V_s **2 ) / (2*(Z_equi + R_1 + R_th)**2)\n",
    "        data.append(go.Scatter(x=frequence, y=array(P)))\n",
    "\n",
    "#data = [go.Scatter(x=frequence, y=array(P)),go.Scatter(x=frequence, y=L_1),go.Scatter(x=frequence, y=L_2)]\n",
    "print(induct1(1e-6 , 19000))\n",
    "print(induct2(R_l, 1e-8,19000))\n",
    "plotly.offline.plot({\n",
    "    \"data\": data,\n",
    "    \"layout\": go.Layout(title=\"Frequency of the oscillator\")\n",
    "}, filename=\"Power_frequency.html\")\n",
    "\n",
    "print()"
   ]
  }
 ],
 "metadata": {
  "kernelspec": {
   "display_name": "Python 3",
   "language": "python",
   "name": "python3"
  },
  "language_info": {
   "codemirror_mode": {
    "name": "ipython",
    "version": 2
   },
   "file_extension": ".py",
   "mimetype": "text/x-python",
   "name": "python",
   "nbconvert_exporter": "python",
   "pygments_lexer": "ipython2",
   "version": "2.7.15rc1"
  }
 },
 "nbformat": 4,
 "nbformat_minor": 2
}
