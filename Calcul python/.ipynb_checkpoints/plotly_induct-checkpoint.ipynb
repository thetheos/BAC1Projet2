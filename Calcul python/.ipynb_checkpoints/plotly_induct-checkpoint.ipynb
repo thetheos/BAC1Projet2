{
 "cells": [
  {
   "cell_type": "markdown",
   "metadata": {},
   "source": [
    "### Evaluation de la fréquence de résonance\n"
   ]
  },
  {
   "cell_type": "code",
   "execution_count": 7,
   "metadata": {},
   "outputs": [
    {
     "name": "stderr",
     "output_type": "stream",
     "text": [
      "/home/thatthetheos/.local/lib/python2.7/site-packages/ipykernel_launcher.py:36: DeprecationWarning:\n",
      "\n",
      "object of type <type 'float'> cannot be safely interpreted as an integer.\n",
      "\n",
      "/home/thatthetheos/.local/lib/python2.7/site-packages/ipykernel_launcher.py:17: RuntimeWarning:\n",
      "\n",
      "invalid value encountered in sqrt\n",
      "\n"
     ]
    },
    {
     "name": "stdout",
     "output_type": "stream",
     "text": [
      "21401.350544926845\n",
      "65971.24667817901\n",
      "143961.06266350442\n",
      "nan\n"
     ]
    },
    {
     "data": {
      "text/plain": [
       "'induct_func_frequency.html'"
      ]
     },
     "execution_count": 7,
     "metadata": {},
     "output_type": "execute_result"
    }
   ],
   "source": [
    "import plotly\n",
    "import plotly.graph_objs as go\n",
    "from numpy import *\n",
    "\n",
    "def induct2(R_app, cap2,frequence):\n",
    "    \"\"\"\n",
    "        input: charge, valeur C_2 fréquence\n",
    "        return: Calcule la valeur de l'inductance 2 \n",
    "    \"\"\"\n",
    "    return (R_app**2 * cap2)/(1+(frequence*2*pi*cap2*R_app)**2)\n",
    "\n",
    "def frequ_resonance(L2,cap2,R_app):\n",
    "    \"\"\"\n",
    "        input: \n",
    "        return: La fréquence de résonance\n",
    "    \"\"\"\n",
    "    return sqrt(1/(cap2*L2) - 1/(cap2*R_app)**2)/(2*pi)\n",
    "\n",
    "def induct1(cap1, frequency):\n",
    "    \"\"\"\n",
    "        input: la fréquence désirée et une capacité\n",
    "        return: la valeur de l'inductance 1\n",
    "    \"\"\"\n",
    "    return 1/((2*pi*frequency)**2*cap1)\n",
    "\n",
    "def turn_count(induct, R):\n",
    "    return sqrt((2*induct)/(4*pi**2 * 1e-7 * R))\n",
    "\n",
    "def induct_length(n_count, R):\n",
    "    return N*2*pi*R\n",
    " \n",
    "\n",
    "cap = [1e-6, 1e-7, 1e-8, 1e-9]\n",
    "R_app = 100\n",
    "L2 = 55e-6\n",
    "i = linspace(1000,100000, 1e4)\n",
    "\n",
    "data = []\n",
    "\n",
    "for cap_value in cap:\n",
    "    print(frequ_resonance(L2,cap_value,R_app))\n",
    "    data.append(go.Scatter(x=i, y=induct2(R_app, cap_value,i), name=\"L2 C= {}F\".format(cap_value)) )\n",
    "    \n",
    "for cap_value in cap:\n",
    "    data.append(go.Scatter(x=i, y=induct1(cap_value,i), name=\"L1 C= {}F\".format(cap_value)) )\n",
    "    \n",
    "plotly.offline.plot({\n",
    "    \"data\": data,\n",
    "    \"layout\": go.Layout(title=\"Inductance in function of frequency\")\n",
    "}, filename=\"induct_func_frequency.html\")"
   ]
  },
  {
   "cell_type": "markdown",
   "metadata": {},
   "source": [
    "### Evaluation de la fréquence ne sortie de l'ampli Op\n",
    "\n",
    "$$f = \\dfrac{1}{2*R_3 * C_1 *ln(2)}$$\n"
   ]
  },
  {
   "cell_type": "code",
   "execution_count": 55,
   "metadata": {},
   "outputs": [
    {
     "data": {
      "text/plain": [
       "'frequency.html'"
      ]
     },
     "execution_count": 55,
     "metadata": {},
     "output_type": "execute_result"
    }
   ],
   "source": [
    "from numpy import *\n",
    "import plotly\n",
    "import plotly.graph_objs as go\n",
    "\n",
    "def frequency(C1,R):\n",
    "    return 1/(2*R*C1*log(2))\n",
    "\n",
    "R = linspace(100,10000,10000)\n",
    "freq = frequency(R,0.000001)\n",
    "cap = [1e-6, 1e-7, 1e-8, 1e-9]\n",
    "\n",
    "data = []\n",
    "for cap_value in cap:\n",
    "    data.append(go.Scatter(x=R, y=frequency(cap_value,R), name=\"With C = {}\".format(cap_val)))\n",
    "                \n",
    "plotly.offline.plot({\n",
    "    \"data\": data,\n",
    "    \"layout\": go.Layout(title=\"Frequency of the oscillator\")\n",
    "}, filename=\"frequency.html\")"
   ]
  },
  {
   "cell_type": "markdown",
   "metadata": {},
   "source": [
    "### Evaluation de $Z_{equi}$\n",
    "$$Z_{equi}= \\frac{\\omega^2 M^2 R_L + \\omega^2 M^2 R_2 + \\omega^4 M^2 C_2^2 R_L^2 R_2 + \\omega^3M^2j(-\\omega^2L_2C_2^2R_L^2+C_2R_L^2-L_2)}{(R_2 + R_L -\\omega^2 C_2 L_2 R_L)^2 + (\\omega C_2 R_L R_2 + \\omega L_2)^2}$$"
   ]
  },
  {
   "cell_type": "code",
   "execution_count": 58,
   "metadata": {},
   "outputs": [
    {
     "name": "stderr",
     "output_type": "stream",
     "text": [
      "/home/thatthetheos/.local/lib/python2.7/site-packages/ipykernel_launcher.py:1: DeprecationWarning:\n",
      "\n",
      "object of type <type 'float'> cannot be safely interpreted as an integer.\n",
      "\n"
     ]
    },
    {
     "name": "stdout",
     "output_type": "stream",
     "text": [
      "7.01670246831e-05\n",
      "5.58026532217e-05\n",
      "()\n"
     ]
    }
   ],
   "source": [
    "i = linspace(1000,100000, 1e4)\n",
    "frequence = i \n",
    "omega = 2 * pi * frequence#fréquence\n",
    "R_l = 75 #Resistance de la charge au secondaire\n",
    "R_2 = 1# Resistance de l'inductance secondaire\n",
    "C_1 = 1e-6#Capacité du primaire\n",
    "C_2 = 1e-6#Capacité du secondaire\n",
    "L_2 = induct2(R_l, C_2,frequence) #Inductance du secondaire\n",
    "L_1 = induct1(C_1 , frequence) #Inductan au primaire \n",
    "V_s = 5#Tension d'entrée au primaire\n",
    "R_th = 2#Restance equivalent de la source de tension\n",
    "R_1 =  0.8#Résistance de l'inductance 1\n",
    "k = 1\n",
    "M = k * sqrt(L_1 * L_2)#inductance mutuelle\n",
    "\n",
    "\n",
    "#Z_equi = ((omega*M)**2 * (R_l + R_2 + (omega*R_l*C_2)**2 * R_2))/ ((R_2 * R_l - omega**2 * C_2 * L_2*R_2)**2 + (omega*C_2*R_l*R_2 + omega*L_2)**2 )\n",
    "data = []\n",
    "#P = (Z_equi * V_s **2 ) / (2*(Z_equi + R_1 + R_th))\n",
    "for cap_val_1 in cap:\n",
    "    for cap_val_2 in cap:\n",
    "        C_1 = cap_val_1\n",
    "        C_2 = cap_val_2\n",
    "        L_2 = induct2(R_l, C_2, frequence) #Inductance du secondaire\n",
    "        L_1 = induct1(C_1, frequence) #Inductan au primaire\n",
    "        M = k * sqrt(L_1 * L_2)\n",
    "        \n",
    "        Z_sec = R_2 + R_l/(1+(R_l*omega*C_2)**2)\n",
    "        alpha2 = R_l / Z_sec\n",
    "        \n",
    "        Z_equi = ((omega*M)**2 * (R_l + R_2 + (omega*R_l*C_2)**2 * R_2))/ ((R_2 * R_l - omega**2 * C_2 * L_2*R_2)**2 + (omega*C_2*R_l*R_2 + omega*L_2)**2 )\n",
    "        \"\"\"  \n",
    "        P = alpha2 * (Z_equi * V_s **2 ) / (2*(Z_equi + R_1 + R_th)**2)\n",
    "        data.append(go.Scatter(x=frequence, y=array(P), name=\"a2 C1 {} , C2 {}\".format(cap_val_1, cap_val_2)))\n",
    "        data.append(go.Scatter(mode = 'markers',x = array(frequence[argmax(P)]),y = array(amax(P))))\n",
    "        \"\"\" \n",
    "        P =  (Z_equi * V_s **2 ) / (2*(Z_equi + R_1 + R_th)**2)\n",
    "        data.append(go.Scatter(mode = 'markers',x = array(frequence[argmax(P)]),y = array(amax(P))))\n",
    "        data.append(go.Scatter(x=frequence, y=array(P),  name=\"a1 C1 {} , C2 {}\".format(cap_val_1, cap_val_2)))\n",
    "\n",
    "#data = [go.Scatter(x=frequence, y=array(P)),go.Scatter(x=frequence, y=L_1),go.Scatter(x=frequence, y=L_2)]\n",
    "print(induct1(1e-6 , 19000))\n",
    "print(induct2(R_l, 1e-8,19000))\n",
    "plotly.offline.plot({\n",
    "    \"data\": data,\n",
    "    \"layout\": go.Layout(title=\"Frequency of the oscillator\")\n",
    "}, filename=\"Power_frequency.html\")\n",
    "\n",
    "print()"
   ]
  },
  {
   "cell_type": "markdown",
   "metadata": {},
   "source": [
    "### Verification du graphs pour la condition d'opitmisation\n",
    "Sans considerer $\\alpha_2$\n",
    "\n",
    "$Z_{equi} = R_1 + R_{th}$"
   ]
  },
  {
   "cell_type": "code",
   "execution_count": 43,
   "metadata": {},
   "outputs": [
    {
     "name": "stdout",
     "output_type": "stream",
     "text": [
      "2.7989005254950983\n",
      "2.8\n"
     ]
    }
   ],
   "source": [
    "\n",
    "R_l = 75\n",
    "R_2 = 1\n",
    "L_1 = induct1(1e-6, 13207.9)\n",
    "L_2 = induct2(R_l, 1e-6, 13207.9)\n",
    "C_1 = 1e-6\n",
    "C_2 = 1e-6\n",
    "f = 13207.9\n",
    "\n",
    "omega = 2*pi*f\n",
    "M = sqrt(L_1 * L_2)\n",
    "\n",
    "Z_equi = ((omega*M)**2 * (R_l + R_2 + (omega*R_l*C_2)**2 * R_2))/ ((R_2 * R_l - omega**2 * C_2 * L_2*R_2)**2 + (omega*C_2*R_l*R_2 + omega*L_2)**2 )\n",
    "print(Z_equi)\n",
    "\n",
    "print(R_1 + R_th)\n",
    "\n",
    "\n"
   ]
  },
  {
   "cell_type": "markdown",
   "metadata": {},
   "source": [
    "Nous pouvons observer que les valeurs calculées respectent bien la condition."
   ]
  },
  {
   "cell_type": "markdown",
   "metadata": {},
   "source": [
    "### En considérant $\\alpha_2$\n",
    "$Z_{equi} = R_1 + R_{th}$\n"
   ]
  },
  {
   "cell_type": "code",
   "execution_count": 51,
   "metadata": {},
   "outputs": [
    {
     "name": "stdout",
     "output_type": "stream",
     "text": [
      "2.7602685802401288\n",
      "10.8\n",
      "74.6232658544\n"
     ]
    }
   ],
   "source": [
    "R_l = 75\n",
    "R_2 = 1\n",
    "L_1 = induct1(1e-7, 258639.3)\n",
    "L_2 = induct2(R_l, 1e-6, 258639.3)\n",
    "C_1 = 1e-7\n",
    "C_2 = 1e-6\n",
    "f = 258639.3\n",
    "\n",
    "omega = 2*pi*f\n",
    "M = sqrt(L_1 * L_2)\n",
    "\n",
    "Z_equi = ((omega*M)**2 * (R_l + R_2 + (omega*R_l*C_2)**2 * R_2))/ ((R_2 * R_l - omega**2 * C_2 * L_2*R_2)**2 + (omega*C_2*R_l*R_2 + omega*L_2)**2 )\n",
    "\n",
    "Z_sec = R_2 + R_l/(1+(R_l*omega*C_2)**2)\n",
    "alpha2 = R_l / Z_sec\n",
    "\n",
    "print(Z_equi)\n",
    "\n",
    "print(R_1 + R_th)\n",
    "print(alpha2)"
   ]
  },
  {
   "cell_type": "markdown",
   "metadata": {},
   "source": [
    "IL y a un problème: Alpha 2 est bcp plus grand que 1"
   ]
  },
  {
   "cell_type": "markdown",
   "metadata": {},
   "source": [
    "## Evaluation de l'impédance du circuit secondaire\n",
    "### Inductance = Source de tension\n",
    "On considère l'inductance comme source de tension et on néglige la valeur de la résistance interne de fil.\n",
    "\n",
    "Le circuit se résume donc à une capacité et une charge en parrallèle\n",
    "\n",
    "$Z = \\dfrac{R_l}{R_l \\cdot j \\cdot \\omega \\cdot C_2 + 1}$\n",
    "\n",
    "$Z- \\dfrac{R_l \\cdot (1-R_l^2 \\cdot j \\cdot \\omega \\cdot C_2)}{1 + (R_l \\cdot \\omega \\cdot C_2)^2}$\n",
    "\n",
    "$Im(Z) = -\\dfrac{R_l ^2 \\cdot \\omega \\cdot C_2}{1+(R_l \\cdot \\omega \\cdot C_2)^2}$\n",
    "\n",
    "$Re(Z) = \\dfrac{R_l}{1 + (R_l \\cdot \\omega \\cdot C_2)^2}$\n",
    "\n",
    "\n",
    "On a un problème avec ce modèle ci car si on annule la partie imaginaire on doit avoir $R_l^2\\cdot \\omega \\cdot C_2 = 0$ \n",
    "\n",
    "\n",
    "### On considère l'impédance de l'inductance\n",
    "\n",
    "même circuit que précedemment mais en ajoutant l'impédance de l'inductance en serie avec le circuit parrallèle\n",
    "\n",
    "on obtient\n",
    "\n",
    "$Z = j \\cdot \\omega \\cdot L_2 + \\dfrac{R_l}{R_l \\cdot j \\cdot \\omega \\cdot C_2 + 1}$\n",
    "\n",
    "$Z = j \\cdot \\omega \\cdot L_2 + \\dfrac{R_l \\cdot (1-R_l^2 \\cdot j \\cdot \\omega \\cdot C_2)}{1 + (R_l \\cdot \\omega \\cdot C_2)^2}$\n",
    "\n",
    "$Im(Z) = \\omega L_2 - \\dfrac{R_l^2 \\omega C_2}{1+(R_l \\omega C_2)^2}$\n",
    "\n",
    "Ce qui donne la relation suivante\n",
    "$\\omega = \\sqrt{\\dfrac{R_l^2 C_2 - L_2}{L_2 R_l^2 C_2^2}}$ que nous utilison déja pour déduire la valeur de l'inductance 2\n",
    "\n",
    "$Re(Z) = \\dfrac{R_l}{1+(R_l \\omega C_2)^2}$\n",
    "\n",
    "Cette partie a l'air correcte cfr https://www.electronics-tutorials.ws/accircuits/parallel-circuit.html et https://www.electronics-tutorials.ws/accircuits/parallel-resonance.html"
   ]
  },
  {
   "cell_type": "code",
   "execution_count": null,
   "metadata": {},
   "outputs": [],
   "source": []
  },
  {
   "cell_type": "markdown",
   "metadata": {},
   "source": [
    "### Optimisation de la puissance:\n",
    "$P = \\alpha_2 \\cdot \\dfrac{Z_{equi}\\cdot V_s^2}{2\\cdot (Z_{equi}+R_1+R_{th})^2}$\n",
    "\n",
    "\n",
    "En Dérivant\n",
    "$P = \\dfrac{Z_{equi}\\cdot V_s^2}{2\\cdot (Z_{equi}+R_1+R_{th})^2}$\n",
    "\n",
    "par rapport à $Z_{equi}$ on obtient:\n",
    "\n",
    "\n",
    "$\\dfrac{\\delta}{\\delta Z_{equi}}( P )= \\dfrac{\\delta}{\\delta Z_{equi}}( \\dfrac{Z_{equi}\\cdot V_s^2}{2\\cdot (Z_{equi}+R_1+R_{th})^2}) = 0$\n",
    "\n",
    "\n",
    "$Z_{equi} = R_1 + R_{th}$\n",
    "\n",
    "$\\alpha_2 = \\dfrac{R_l \\cdot ( 1 + (R_l \\cdot \\omega \\cdot C_2)^2)}{R_2 + R_l}$\n",
    "\n",
    "Et\n",
    "\n",
    "$Z_{equi} = \\dfrac{\\omega \\cdot M^2 \\cdot (R_l + R_2 + (\\omega \\cdot R_l \\cdot C_2)^2 \\cdot R_2)}{(R_2 \\cdot R_l - \\omega^2 \\cdot C_2 \\cdot L_2\\cdot R_2)^2 + (\\omega \\cdot C_2 \\cdot R_l \\cdot R_2 + \\omega \\cdot L_2)^2}$\n",
    "\n",
    "Et \n",
    "\n",
    "$M = k \\cdot \\sqrt{L_1 \\cdot L_2}$\n",
    "\n",
    "Et \n",
    "\n",
    "$\\omega = 2\\cdot \\pi \\cdot f$\n",
    "\n",
    "En Considérant, pour imposer la résonance\n",
    "\n",
    "$ L_1 = \\dfrac{1}{(2\\cdot \\pi \\cdot f)^2 \\cdot C_1}$\n",
    "\n",
    "Et\n",
    "$ L_2 = \\dfrac{R_l^2 \\cdot C_2}{1+(f\\cdot 2\\cdot \\pi \\cdot C_2 \\cdot R_l)^2}$\n",
    "\n",
    "Nous obtenons finalement un expression pour la puissance:\n",
    "\n",
    "$P = \\dfrac{R_l \\cdot ( 1 + (R_l \\cdot 2\\cdot \\pi \\cdot f \\cdot C_2)^2)}{R_2 + R_l} \\cdot \\frac{\\dfrac{2\\cdot \\pi \\cdot f \\cdot M^2 \\cdot (R_l + R_2 + (2\\cdot \\pi \\cdot f \\cdot R_l \\cdot C_2)^2 \\cdot R_2)}{(R_2 \\cdot R_l - (2\\cdot \\pi \\cdot f)^2 \\cdot C_2 \\cdot \\dfrac{R_l^2 \\cdot C_2}{1+(f\\cdot 2\\cdot \\pi \\cdot C_2 \\cdot R_l)^2} \\cdot R_2)^2 + (2\\cdot \\pi \\cdot f \\cdot C_2 \\cdot R_l \\cdot R_2 + 2\\cdot \\pi \\cdot f \\cdot \\dfrac{R_l^2 \\cdot C_2}{1+(f\\cdot 2\\cdot \\pi \\cdot C_2 \\cdot R_l)^2})^2} \\cdot V_s^2}{2\\cdot (\\dfrac{2\\cdot \\pi \\cdot f \\cdot M^2 \\cdot (R_l + R_2 + (2\\cdot \\pi \\cdot f \\cdot R_l \\cdot C_2)^2 \\cdot R_2)}{(R_2 \\cdot R_l - (2\\cdot \\pi \\cdot f)^2 \\cdot C_2 \\cdot \\dfrac{R_l^2 \\cdot C_2}{1+(f\\cdot 2\\cdot \\pi \\cdot C_2 \\cdot R_l)^2}\\cdot R_2)^2 + (2\\cdot \\pi \\cdot f \\cdot C_2 \\cdot R_l \\cdot R_2 + 2\\cdot \\pi \\cdot f \\cdot \\dfrac{R_l^2 \\cdot C_2}{1+(f\\cdot 2\\cdot \\pi \\cdot C_2 \\cdot R_l)^2})^2} + R_1 +R_{th})^2}$"
   ]
  }
 ],
 "metadata": {
  "kernelspec": {
   "display_name": "Python 3",
   "language": "python",
   "name": "python3"
  },
  "language_info": {
   "codemirror_mode": {
    "name": "ipython",
    "version": 2
   },
   "file_extension": ".py",
   "mimetype": "text/x-python",
   "name": "python",
   "nbconvert_exporter": "python",
   "pygments_lexer": "ipython2",
   "version": "2.7.15rc1"
  }
 },
 "nbformat": 4,
 "nbformat_minor": 2
}
