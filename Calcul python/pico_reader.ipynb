{
 "cells": [
  {
   "cell_type": "code",
   "execution_count": 4,
   "metadata": {},
   "outputs": [
    {
     "name": "stdout",
     "output_type": "stream",
     "text": [
      "['resistance.psdata', 'sorties ampliop 50 et 70.psdata', 'resonance_1cm.psdata', '4V sortie 55micro H.psdata', 'resonance_Avec_capa_19Khz.psdata', 'secondaire_capa_pas_resonance_2.psdata', 'resonance2cm.psdata', 'secondaire_capa_pas_resonance_1.psdata', 'sorties point h 50 et 70.psdata', 'resonance3cm.psdata', 'secondaire_freq_resonance_VF.psdata', 'resonance5cm.psdata', 'entr\\xc3\\xa9e ampliop 50 et 70.psdata']\n"
     ]
    },
    {
     "data": {
      "text/plain": [
       "'test.html'"
      ]
     },
     "execution_count": 4,
     "metadata": {},
     "output_type": "execute_result"
    }
   ],
   "source": [
    "from numpy import *\n",
    "import plotly\n",
    "import plotly.plotly as py\n",
    "import plotly.graph_objs as go\n",
    "from pico_plotter import listifier\n",
    "from os import listdir\n",
    "\n",
    "\n",
    "time, chanA, chanB = listifier(\"trace.txt\")\n",
    "\n",
    "data = []\n",
    "data.append(go.Scatter(x=time,y=chanA,name=\"Channel A\"))\n",
    "data.append(go.Scatter(x=time,y=chanB,name=\"Channel B\"))\n",
    "\n",
    "plotly.offline.plot({\n",
    "    \"data\": data,\n",
    "    \"layout\": go.Layout(title=\"Pico_Plotter\"),   \n",
    "}, filename= \"test.html\")"
   ]
  },
  {
   "cell_type": "markdown",
   "metadata": {},
   "source": [
    "### Bulk picoscope to graph\n",
    "Tu lui donne un dossier avec tout les plot du pico. Il te chie tout les graphs plotly."
   ]
  },
  {
   "cell_type": "code",
   "execution_count": 7,
   "metadata": {},
   "outputs": [],
   "source": [
    "\"\"\"\n",
    "from os.path import isfile, join\n",
    "onlyfiles = [f for f in listdir(\"picoscope/txt\") if isfile(join(\"picoscope/txt\", f))]\n",
    "for file in onlyfiles:\n",
    "    file_name = file.split(\".\")\n",
    "\n",
    "    time, chanA, chanB = listifier(\"picoscope/txt/{}\".format(file))\n",
    "\n",
    "    data = []\n",
    "    data.append(go.Scatter(x=time,y=chanA,name=\"Channel A\"))\n",
    "    data.append(go.Scatter(x=time,y=chanB,name=\"Channel B\"))\n",
    "\n",
    "    plotly.offline.plot({\n",
    "        \"data\": data,\n",
    "        \"layout\": go.Layout(title=file_name[0]),   \n",
    "    }, filename= \"{}.html\".format(file_name[0]))\n",
    "\"\"\""
   ]
  }
 ],
 "metadata": {
  "kernelspec": {
   "display_name": "Python 3",
   "language": "python",
   "name": "python3"
  },
  "language_info": {
   "codemirror_mode": {
    "name": "ipython",
    "version": 2
   },
   "file_extension": ".py",
   "mimetype": "text/x-python",
   "name": "python",
   "nbconvert_exporter": "python",
   "pygments_lexer": "ipython2",
   "version": "2.7.15rc1"
  }
 },
 "nbformat": 4,
 "nbformat_minor": 2
}
