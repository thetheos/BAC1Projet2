{
 "cells": [
  {
   "cell_type": "markdown",
   "metadata": {},
   "source": [
    "# Optimisation de la puissance\n",
    "Afin de maximiser le transfer de puissance dans le circuit nous allons contraindre notre système à la résonance et égaler l'impédance du secondaire à celle du primaire."
   ]
  },
  {
   "cell_type": "code",
   "execution_count": 4,
   "metadata": {},
   "outputs": [],
   "source": [
    "import plotly\n",
    "import plotly.graph_objs as go\n",
    "from numpy import *"
   ]
  },
  {
   "cell_type": "markdown",
   "metadata": {},
   "source": [
    "## Fréquence de résonance"
   ]
  },
  {
   "cell_type": "markdown",
   "metadata": {},
   "source": [
    "### Approche mathématique"
   ]
  },
  {
   "cell_type": "markdown",
   "metadata": {},
   "source": [
    "#### Primaire\n",
    "Pour être à la résonance la relation suivante doit être respectée:\n",
    "$$TODO$$\n",
    "On determine la valeur de l'inductance pour une fréquence et une capacité donnée en utilisant le code suivant"
   ]
  },
  {
   "cell_type": "code",
   "execution_count": 5,
   "metadata": {},
   "outputs": [],
   "source": [
    "def induct1(cap1, frequency):\n",
    "    return 1/((2*pi*frequency)**2*cap1)"
   ]
  },
  {
   "cell_type": "markdown",
   "metadata": {},
   "source": [
    "#### Secondaire\n",
    "On détermine la fréquence de résonance du secondaire en l'évaluant comme un circuit constitué d'une inductance (L2) en serie avec un condensateur (C2) et une résistance (Rl) en parrallèle. En annulant la partie imaginaire on peut en déduire la fréquence de résonance.\n",
    "\n",
    "$$Z = j \\cdot \\omega \\cdot L_2 + \\dfrac{R_l}{R_l \\cdot j \\cdot \\omega \\cdot C_2 + 1}$$\n",
    "\n",
    "$$Z = j \\cdot \\omega \\cdot L_2 + \\dfrac{R_l \\cdot (1-R_l^2 \\cdot j \\cdot \\omega \\cdot C_2)}{1 + (R_l \\cdot \\omega \\cdot C_2)^2}$$\n",
    "\n",
    "$$Im(Z) = \\omega L_2 - \\dfrac{R_l^2 \\omega C_2}{1+(R_l \\omega C_2)^2}=0$$\n",
    "\n",
    "Ce qui donne la relation suivante\n",
    "$\\omega = \\sqrt{\\dfrac{R_l^2 C_2 - L_2}{L_2 R_l^2 C_2^2}}$ que nous utilisons pour déduire la valeur de l'inductance 2.\n",
    "\n",
    "On determine la valeur de l'inductance pour une fréquence, capacité et charge donnée en utilisant le code suivant\n"
   ]
  },
  {
   "cell_type": "code",
   "execution_count": 6,
   "metadata": {},
   "outputs": [],
   "source": [
    "def induct2(cap2,frequence, R_app):\n",
    "    return (R_app**2 * cap2)/(1+(frequence*2*pi*cap2*R_app)**2)"
   ]
  },
  {
   "cell_type": "markdown",
   "metadata": {},
   "source": [
    "## Evaluation de la puissance\n",
    "\n",
    "### Puissance utilie à la charge\n",
    "La puissance utilile à la charge vaut.\n",
    " $$P_l = \\eta_1 \\cdot \\eta_2 \\cdot P_s $$ \n",
    " où $P_s$ est la puissance à la source tq\n",
    " $$P_s = \\dfrac{V_s^2}{Z_{equi} + R_1 + R_{th}} $$ "
   ]
  },
  {
   "cell_type": "markdown",
   "metadata": {},
   "source": [
    "### Determination de $Z_{equi}$\n",
    "Nous utiliserons la partie reel de:\n",
    "$$Z_{equi}= \\frac{\\omega^2 M^2 R_L + \\omega^2 M^2 R_2 + \\omega^4 M^2 C_2^2 R_L^2 R_2 + \\omega^3M^2j(-\\omega^2L_2C_2^2R_L^2+C_2R_L^2-L_2)}{(R_2 + R_L -\\omega^2 C_2 L_2 R_L)^2 + (\\omega C_2 R_L R_2 + \\omega L_2)^2}$$\n",
    "\n",
    "\n",
    "$$ Re(Z_{equi}) = \\dfrac{(\\omega \\cdot M)^2 \\cdot (R_l + R_2 + (\\omega\\cdot R_l \\cdot C_2)^2 \\cdot R_2)}{(R_2 + R_l - \\omega^2 \\cdot C_2 \\cdot L_2\\cdot R_l)^2 + (\\omega \\cdot C_2 \\cdot R_l\\cdot R_2 + \\omega \\cdot L_2)^2 }$$"
   ]
  },
  {
   "cell_type": "code",
   "execution_count": 7,
   "metadata": {},
   "outputs": [],
   "source": [
    "def eval_z_equi(f,M,L_2, C_2):\n",
    "    omega = 2 * pi * f\n",
    "    return ((omega*M)**2 * (R_l + R_2 + (omega*R_l*C_2)**2 * R_2))/ ((R_2 + R_l - omega**2 * C_2 * L_2*R_l)**2 + (omega*C_2*R_l*R_2 + omega*L_2)**2 )"
   ]
  },
  {
   "cell_type": "markdown",
   "metadata": {},
   "source": [
    "### Determiner $\\eta_1$\n",
    "\n",
    "$\\eta_1$ correspond au facteur de puissance entre le circuit primaire, en considérant le circuit secondaire en serie, et le circuit secondaire.\n",
    "tel que:\n",
    "$$\\eta_1 = \\dfrac{Z_{equi}}{Z_{equi} + R_1 + R_{th}}$$"
   ]
  },
  {
   "cell_type": "code",
   "execution_count": 8,
   "metadata": {},
   "outputs": [],
   "source": [
    "def eval_eta_1(Z_equi):\n",
    "    return Z_equi/(Z_equi + R_1 + R_th)"
   ]
  },
  {
   "cell_type": "markdown",
   "metadata": {},
   "source": [
    "### Determiner $\\eta_2$\n",
    "\n",
    "$\\eta_2$ correspond au facteur de puissance entre la charge et la résistance du circuit secondaire.\n",
    "tel que:\n",
    "\n",
    "$$\\eta_2 = \\dfrac{R_l}{R_l + R_1}$$"
   ]
  },
  {
   "cell_type": "code",
   "execution_count": 9,
   "metadata": {},
   "outputs": [
    {
     "ename": "NameError",
     "evalue": "name 'R_l' is not defined",
     "output_type": "error",
     "traceback": [
      "\u001b[0;31m---------------------------------------------------------------------------\u001b[0m",
      "\u001b[0;31mNameError\u001b[0m                                 Traceback (most recent call last)",
      "\u001b[0;32m<ipython-input-9-6dfa2fbf8391>\u001b[0m in \u001b[0;36m<module>\u001b[0;34m()\u001b[0m\n\u001b[0;32m----> 1\u001b[0;31m \u001b[0meta2\u001b[0m \u001b[0;34m=\u001b[0m \u001b[0mR_l\u001b[0m \u001b[0;34m/\u001b[0m\u001b[0;34m(\u001b[0m\u001b[0mR_l\u001b[0m \u001b[0;34m+\u001b[0m \u001b[0mR_2\u001b[0m\u001b[0;34m)\u001b[0m\u001b[0;34m\u001b[0m\u001b[0m\n\u001b[0m",
      "\u001b[0;31mNameError\u001b[0m: name 'R_l' is not defined"
     ]
    }
   ],
   "source": [
    "eta2 = R_l /(R_l + R_2)"
   ]
  },
  {
   "cell_type": "markdown",
   "metadata": {},
   "source": [
    "### Evaluation de la puissance en fonction de différentes capa et fréquences"
   ]
  },
  {
   "cell_type": "code",
   "execution_count": 20,
   "metadata": {},
   "outputs": [],
   "source": [
    "data=[]\n",
    "for c_1 in cap_values:\n",
    "    for c_2 in cap_values:\n",
    "        L_1 = induct1(c_1, frequence)\n",
    "        L_2 = induct2(c_2, frequence, R_l)\n",
    "        M = k* sqrt(L_1 * L_2)\n",
    "        Z_equi = eval_z_equi(frequence,M,L_2, c_2)\n",
    "        eta1 = eval_eta_1(Z_equi)\n",
    "        #P = eta2 * eta1 * (V_s **2 )/(2*(Z_equi + R_1001 + R_th))\n",
    "        P =  eta1 * (V_s **2 )/(2*(Z_equi + R_1 + R_th))\n",
    "        \n",
    "        data.append(go.Scatter(x=frequence, y=array(P), name=\"a2 C1 {} , C2 {}\".format(c_1, c_2)))\n",
    "        data.append(go.Scatter(mode = 'markers',x = array(frequence[argmax(P)]),y = array(amax(P))))"
   ]
  },
  {
   "cell_type": "markdown",
   "metadata": {},
   "source": [
    "### Observations\n",
    "On observe que la puissance est maximisée pour une certaine fréquence.\n",
    "\n",
    "En dérivant l'expression de la puissance par rapport à $Z_{equi}$ et en l'annulant.\n",
    "\n",
    "$\\dfrac{\\delta}{\\delta Z_{equi}}( P )= \\dfrac{\\delta}{\\delta Z_{equi}}( \\dfrac{Z_{equi}\\cdot V_s^2}{2\\cdot (Z_{equi}+R_1+R_{th})^2}) = 0$\n",
    "\n",
    "$Z_{equi} = R_1 + R_{th}$\n",
    "\n",
    "En substituant ceci dans l'expression de $P_l$, on obtient la relation:\n",
    "$$P = \\dfrac{V_s^2}{8\\cdot (R_1 + R_{th})}$$\n",
    "\n",
    "Qui permet de determiner la valeur  maximale qu'on puisse obtenir en fonction de $R_1$ et $R_{th}$\n"
   ]
  },
  {
   "cell_type": "code",
   "execution_count": 21,
   "metadata": {},
   "outputs": [],
   "source": [
    "max_P = V_s**2/ (8*(R_1+R_th))\n",
    "yP = max_P * ones(len(frequence))\n",
    "data.append(go.Scatter(x=frequence, y=yP, name=\"P max\"))"
   ]
  },
  {
   "cell_type": "markdown",
   "metadata": {},
   "source": [
    "### Plot"
   ]
  },
  {
   "cell_type": "code",
   "execution_count": 22,
   "metadata": {},
   "outputs": [
    {
     "data": {
      "text/plain": [
       "'Power_frequency_test.html'"
      ]
     },
     "execution_count": 22,
     "metadata": {},
     "output_type": "execute_result"
    }
   ],
   "source": [
    "plotly.offline.plot({\n",
    "    \"data\": data,\n",
    "    \"layout\": go.Layout(title=\"Power in resonance\")\n",
    "}, filename=\"Power_frequency_test.html\")\n"
   ]
  },
  {
   "cell_type": "markdown",
   "metadata": {},
   "source": [
    "## Données du circuit\n"
   ]
  },
  {
   "cell_type": "code",
   "execution_count": 19,
   "metadata": {},
   "outputs": [],
   "source": [
    "data = []\n",
    "frequence = linspace(1000,100000, int(1e4)) \n",
    "omega = 2 * pi * frequence #fréquence\n",
    "\n",
    "cap_values = [1e-6, 1e-7, 1e-8, 1e-9]\n",
    "V_s = 5.0 #Tension d'entrée au primaire\n",
    "\n",
    "#induct1=induct_1(cap_values,frequence)\n",
    "\n",
    "R_th = 1.0 #Restance equivalent de la source de tension\n",
    "R_1 =  0.38 #Résistance de l'inductance 1  # avant: 0.8\n",
    "\n",
    "R_l = 50.0 #Resistance de la charge au secondaire\n",
    "R_2 = 0.38 #Resistance de l'inductance secondaire # avant: 1\n",
    "\n",
    "k = 0.4 #coefficient de qualité pour l'inductan mutuelle\n",
    "\n",
    "\n"
   ]
  },
  {
   "cell_type": "markdown",
   "metadata": {},
   "source": [
    "# Dimensionnement\n",
    "## Bobinnes\n",
    "On peut determiner la longeur des bobines et le nombre de tour en utilisant *induct_printer*:"
   ]
  },
  {
   "cell_type": "code",
   "execution_count": 10,
   "metadata": {},
   "outputs": [
    {
     "ename": "SyntaxError",
     "evalue": "invalid syntax (<ipython-input-10-d803f7156d8f>, line 12)",
     "output_type": "error",
     "traceback": [
      "\u001b[0;36m  File \u001b[0;32m\"<ipython-input-10-d803f7156d8f>\"\u001b[0;36m, line \u001b[0;32m12\u001b[0m\n\u001b[0;31m    def résistance_1(induct_1,R):\u001b[0m\n\u001b[0m         ^\u001b[0m\n\u001b[0;31mSyntaxError\u001b[0m\u001b[0;31m:\u001b[0m invalid syntax\n"
     ]
    }
   ],
   "source": [
    "def turn_count(induct, R):\n",
    "    return sqrt((2*induct)/(4*pi**2 * 1e-7 * R))\n",
    "\n",
    "def induct_length(n_count, R):\n",
    "    return N*2*pi*R\n",
    "\n",
    "def induct_printer(f,c_1,c_2,R_l,rayon):\n",
    "    print(\"Inducante 1 {} , capa 1 {}, nombre tour {}\".format(induct1(c_1,f),c_1, turn_count(induct1(c_1,f),rayon)))    \n",
    "    print(\"Inducante 2 {} , capa 2 {}, nombre tour {}\".format(induct2(R_l,c_2,f),c_2, turn_count(induct2(R_l,c_2,f),rayon)))\n",
    "    \n",
    "    \n",
    "def résistance_1(induct_1,R):\n",
    "    \n",
    "    n=turn_count(induct_1,R)\n",
    "    l=induct_length(n,R)\n",
    "    s=0.7854\n",
    "    return(0.0842*l/s)\n",
    "    \n",
    "    \n",
    "\n",
    "    "
   ]
  },
  {
   "cell_type": "code",
   "execution_count": 44,
   "metadata": {},
   "outputs": [
    {
     "name": "stdout",
     "output_type": "stream",
     "text": [
      "Inducante 1 3.595885189991683e-06 , capa 1 1e-06, nombre tour 6.225713183891106\n",
      "Inducante 2 337521511.9444852 , capa 2 1e-06, nombre tour 60316610.653626226\n"
     ]
    }
   ],
   "source": [
    "induct_printer(83930,1e-6,1e-6,75,0.047)"
   ]
  },
  {
   "cell_type": "code",
   "execution_count": 45,
   "metadata": {},
   "outputs": [
    {
     "name": "stdout",
     "output_type": "stream",
     "text": [
      "Zequ notebook 3.9933759262776944 \n",
      "Zequ tuteur   1.795709065859779 \n"
     ]
    }
   ],
   "source": [
    "def zeq_tuteur(frequence,M,R_2,c_2,r_l):\n",
    "    w=2*pi*frequence\n",
    "    return((w**2*M**2)/(R_2+(r_l)/(1+w**2*c_2**2*r_l**2)))\n",
    "#def zeq_2\n",
    "L_2=induct2(1e-6,44702, 100)\n",
    "M=0.4*L_2  \n",
    "print(\"Zequ notebook {} \".format(eval_z_equi(44702,M,L_2, 1e-6)))\n",
    "print(\"Zequ tuteur   {} \".format(zeq_tuteur(44702,M,1,1e-6,100)))\n",
    "\n",
    "\n",
    "\n"
   ]
  },
  {
   "cell_type": "code",
   "execution_count": null,
   "metadata": {},
   "outputs": [],
   "source": []
  }
 ],
 "metadata": {
  "kernelspec": {
   "display_name": "Python 3",
   "language": "python",
   "name": "python3"
  },
  "language_info": {
   "codemirror_mode": {
    "name": "ipython",
    "version": 2
   },
   "file_extension": ".py",
   "mimetype": "text/x-python",
   "name": "python",
   "nbconvert_exporter": "python",
   "pygments_lexer": "ipython2",
   "version": "2.7.15rc1"
  }
 },
 "nbformat": 4,
 "nbformat_minor": 2
}
